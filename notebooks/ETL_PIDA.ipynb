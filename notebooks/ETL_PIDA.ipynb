{
 "cells": [
  {
   "cell_type": "code",
   "execution_count": 1,
   "metadata": {},
   "outputs": [],
   "source": [
    "#Importo las librerías necesarias\n",
    "\n",
    "import pandas as pd\n",
    "import numpy as np\n",
    "import warnings\n",
    "warnings.filterwarnings(\"ignore\", category=FutureWarning)\n",
    "import seaborn as sns\n",
    "%matplotlib inline\n",
    "from plotnine import *\n",
    "import matplotlib.pyplot as plt"
   ]
  },
  {
   "cell_type": "code",
   "execution_count": 2,
   "metadata": {},
   "outputs": [],
   "source": [
    "# Cargo los datasets elegidos para el análisis\n",
    "\n",
    "internet = pd.read_excel(\"C:/Users/jugas/Proyecto_PIDA/dashboard-conectividad-ENACOM/data/internet.xlsx\")\n",
    "mapa_conectividad = pd.read_excel(\"C:/Users/jugas/Proyecto_PIDA/dashboard-conectividad-ENACOM/data/mapa_conectividad.xlsx\")"
   ]
  },
  {
   "cell_type": "markdown",
   "metadata": {},
   "source": [
    "Luego de una inspección visual en Excel, se determina que el archivo internet.xlsx consta de 15 páginas, y se dispone el despliegue por separado pero sólo de las páginas que contienen información relevante para nuestro estudio, que son:  \n",
    "Hoja 3 \"Accesos_tecnologia_localidad\", Hoja 4 \"Velocidad % por prov\", Hoja 6 \"Totales Accesos Por Tecnología\", Hoja 8 \"Penetración-poblacion\", Hoja 9 \"Penetracion-hogares\", Hoja 10 \"Penetracion-totales\" Y Hoja 12\"Accesos por velocidad\".\n"
   ]
  },
  {
   "cell_type": "code",
   "execution_count": 3,
   "metadata": {},
   "outputs": [],
   "source": [
    "internet_3 = pd.read_excel(\"C:/Users/jugas/Proyecto_PIDA/dashboard-conectividad-ENACOM/data/internet.xlsx\", sheet_name=\"Accesos_tecnologia_localidad\")\n",
    "internet_4 = pd.read_excel(\"C:/Users/jugas/Proyecto_PIDA/dashboard-conectividad-ENACOM/data/internet.xlsx\", sheet_name=\"Velocidad % por prov\")\n",
    "internet_6 = pd.read_excel(\"C:/Users/jugas/Proyecto_PIDA/dashboard-conectividad-ENACOM/data/internet.xlsx\", sheet_name=\"Totales Accesos Por Tecnología\")\n",
    "internet_9 = pd.read_excel(\"C:/Users/jugas/Proyecto_PIDA/dashboard-conectividad-ENACOM/data/internet.xlsx\", sheet_name=\"Penetracion-hogares\")\n",
    "internet_10 = pd.read_excel(\"C:/Users/jugas/Proyecto_PIDA/dashboard-conectividad-ENACOM/data/internet.xlsx\", sheet_name=\"Penetracion-totales\")\n",
    "internet_12 = pd.read_excel(\"C:/Users/jugas/Proyecto_PIDA/dashboard-conectividad-ENACOM/data/internet.xlsx\", sheet_name=\"Accesos por velocidad\")\n"
   ]
  },
  {
   "cell_type": "markdown",
   "metadata": {},
   "source": [
    "Inspección de nulos página por página"
   ]
  },
  {
   "cell_type": "code",
   "execution_count": 4,
   "metadata": {},
   "outputs": [],
   "source": [
    "def calcular_porcentaje_nulos_total(df):\n",
    "  \"\"\"función para calcular el porcentaje total de nulos del df\"\"\"\n",
    "\n",
    "  total_valores_nulos = df.isnull().sum().sum()\n",
    "  total_valores = df.size\n",
    "  porcentaje_nulos = (total_valores_nulos / total_valores) * 100\n",
    "  return porcentaje_nulos"
   ]
  },
  {
   "cell_type": "code",
   "execution_count": 5,
   "metadata": {},
   "outputs": [
    {
     "name": "stdout",
     "output_type": "stream",
     "text": [
      "2.5702221406278687\n",
      "0.0\n",
      "0.0\n",
      "0.0\n",
      "0.0\n",
      "0.05081300813008131\n"
     ]
    }
   ],
   "source": [
    "#Aplico la función para calcular el porcentaje en cada una de las hojas \n",
    "\n",
    "total_nulos_3 = calcular_porcentaje_nulos_total(internet_3)\n",
    "print(total_nulos_3)\n",
    "\n",
    "total_nulos_4 = calcular_porcentaje_nulos_total(internet_4)\n",
    "print(total_nulos_4)\n",
    "\n",
    "total_nulos_6 = calcular_porcentaje_nulos_total(internet_6)\n",
    "print(total_nulos_6)\n",
    "\n",
    "total_nulos_9 = calcular_porcentaje_nulos_total(internet_9)\n",
    "print(total_nulos_9)\n",
    "\n",
    "total_nulos_10 = calcular_porcentaje_nulos_total(internet_10)\n",
    "print(total_nulos_10)\n",
    "\n",
    "total_nulos_12 = calcular_porcentaje_nulos_total(internet_12)\n",
    "print(total_nulos_12)"
   ]
  },
  {
   "cell_type": "code",
   "execution_count": 6,
   "metadata": {},
   "outputs": [
    {
     "data": {
      "text/html": [
       "<div>\n",
       "<style scoped>\n",
       "    .dataframe tbody tr th:only-of-type {\n",
       "        vertical-align: middle;\n",
       "    }\n",
       "\n",
       "    .dataframe tbody tr th {\n",
       "        vertical-align: top;\n",
       "    }\n",
       "\n",
       "    .dataframe thead th {\n",
       "        text-align: right;\n",
       "    }\n",
       "</style>\n",
       "<table border=\"1\" class=\"dataframe\">\n",
       "  <thead>\n",
       "    <tr style=\"text-align: right;\">\n",
       "      <th></th>\n",
       "      <th>Provincia</th>\n",
       "      <th>Partido</th>\n",
       "      <th>Localidad</th>\n",
       "      <th>Link Indec</th>\n",
       "      <th>ADSL</th>\n",
       "      <th>CABLEMODEM</th>\n",
       "      <th>DIAL UP</th>\n",
       "      <th>FIBRA OPTICA</th>\n",
       "      <th>OTROS</th>\n",
       "      <th>SATELITAL</th>\n",
       "      <th>WIMAX</th>\n",
       "      <th>WIRELESS</th>\n",
       "      <th>Total general</th>\n",
       "    </tr>\n",
       "  </thead>\n",
       "  <tbody>\n",
       "    <tr>\n",
       "      <th>0</th>\n",
       "      <td>BUENOS AIRES</td>\n",
       "      <td>25 de Mayo</td>\n",
       "      <td>25 de Mayo</td>\n",
       "      <td>6854100</td>\n",
       "      <td>755</td>\n",
       "      <td>4600</td>\n",
       "      <td>0</td>\n",
       "      <td>2</td>\n",
       "      <td>0</td>\n",
       "      <td>742</td>\n",
       "      <td>0</td>\n",
       "      <td>727</td>\n",
       "      <td>6826</td>\n",
       "    </tr>\n",
       "    <tr>\n",
       "      <th>1</th>\n",
       "      <td>BUENOS AIRES</td>\n",
       "      <td>25 de Mayo</td>\n",
       "      <td>Del Valle</td>\n",
       "      <td>6854020</td>\n",
       "      <td>181</td>\n",
       "      <td>0</td>\n",
       "      <td>0</td>\n",
       "      <td>0</td>\n",
       "      <td>10</td>\n",
       "      <td>1</td>\n",
       "      <td>0</td>\n",
       "      <td>0</td>\n",
       "      <td>192</td>\n",
       "    </tr>\n",
       "    <tr>\n",
       "      <th>2</th>\n",
       "      <td>BUENOS AIRES</td>\n",
       "      <td>25 de Mayo</td>\n",
       "      <td>Gobernador Ugarte</td>\n",
       "      <td>6854040</td>\n",
       "      <td>0</td>\n",
       "      <td>0</td>\n",
       "      <td>0</td>\n",
       "      <td>0</td>\n",
       "      <td>0</td>\n",
       "      <td>0</td>\n",
       "      <td>0</td>\n",
       "      <td>181</td>\n",
       "      <td>181</td>\n",
       "    </tr>\n",
       "    <tr>\n",
       "      <th>3</th>\n",
       "      <td>BUENOS AIRES</td>\n",
       "      <td>25 de Mayo</td>\n",
       "      <td>Norberto de la Riestra</td>\n",
       "      <td>6854060</td>\n",
       "      <td>0</td>\n",
       "      <td>782</td>\n",
       "      <td>0</td>\n",
       "      <td>496</td>\n",
       "      <td>16</td>\n",
       "      <td>0</td>\n",
       "      <td>0</td>\n",
       "      <td>185</td>\n",
       "      <td>1479</td>\n",
       "    </tr>\n",
       "    <tr>\n",
       "      <th>4</th>\n",
       "      <td>BUENOS AIRES</td>\n",
       "      <td>25 de Mayo</td>\n",
       "      <td>Lucas Monteverde</td>\n",
       "      <td>6854050</td>\n",
       "      <td>0</td>\n",
       "      <td>0</td>\n",
       "      <td>0</td>\n",
       "      <td>0</td>\n",
       "      <td>0</td>\n",
       "      <td>0</td>\n",
       "      <td>0</td>\n",
       "      <td>6</td>\n",
       "      <td>6</td>\n",
       "    </tr>\n",
       "  </tbody>\n",
       "</table>\n",
       "</div>"
      ],
      "text/plain": [
       "      Provincia     Partido               Localidad Link Indec  ADSL  \\\n",
       "0  BUENOS AIRES  25 de Mayo              25 de Mayo    6854100   755   \n",
       "1  BUENOS AIRES  25 de Mayo               Del Valle    6854020   181   \n",
       "2  BUENOS AIRES  25 de Mayo       Gobernador Ugarte    6854040     0   \n",
       "3  BUENOS AIRES  25 de Mayo  Norberto de la Riestra    6854060     0   \n",
       "4  BUENOS AIRES  25 de Mayo        Lucas Monteverde    6854050     0   \n",
       "\n",
       "   CABLEMODEM  DIAL UP  FIBRA OPTICA  OTROS  SATELITAL  WIMAX  WIRELESS  \\\n",
       "0        4600        0             2      0        742      0       727   \n",
       "1           0        0             0     10          1      0         0   \n",
       "2           0        0             0      0          0      0       181   \n",
       "3         782        0           496     16          0      0       185   \n",
       "4           0        0             0      0          0      0         6   \n",
       "\n",
       "   Total general  \n",
       "0           6826  \n",
       "1            192  \n",
       "2            181  \n",
       "3           1479  \n",
       "4              6  "
      ]
     },
     "execution_count": 6,
     "metadata": {},
     "output_type": "execute_result"
    }
   ],
   "source": [
    "#Página 3 \"Accesos_tecnologia_localidad\"\n",
    "\n",
    "internet_3.head()"
   ]
  },
  {
   "cell_type": "code",
   "execution_count": 7,
   "metadata": {},
   "outputs": [
    {
     "name": "stdout",
     "output_type": "stream",
     "text": [
      "Provincia        object\n",
      "Partido          object\n",
      "Localidad        object\n",
      "Link Indec       object\n",
      "ADSL              int64\n",
      "CABLEMODEM        int64\n",
      "DIAL UP           int64\n",
      "FIBRA OPTICA      int64\n",
      "OTROS             int64\n",
      "SATELITAL         int64\n",
      "WIMAX             int64\n",
      "WIRELESS          int64\n",
      "Total general     int64\n",
      "dtype: object\n"
     ]
    }
   ],
   "source": [
    "print(internet_3.dtypes)"
   ]
  },
  {
   "cell_type": "markdown",
   "metadata": {},
   "source": [
    "Eliminamos la columna Link Indec por considerarse irrelevante"
   ]
  },
  {
   "cell_type": "code",
   "execution_count": 8,
   "metadata": {},
   "outputs": [],
   "source": [
    "internet_3 = internet_3.drop(['Link Indec', 'Total general'], axis=1)"
   ]
  },
  {
   "cell_type": "markdown",
   "metadata": {},
   "source": [
    "Se verifica la cantidad de filas que corresponden a valores faltantes en cuanto a Provincia, Partido y Localidad, y se eliminan del dataset."
   ]
  },
  {
   "cell_type": "code",
   "execution_count": 9,
   "metadata": {},
   "outputs": [
    {
     "name": "stdout",
     "output_type": "stream",
     "text": [
      "Número de filas antes de limpiar: 3352\n",
      "Número de filas después de limpiar: 3072\n"
     ]
    }
   ],
   "source": [
    "print(\"Número de filas antes de limpiar:\", len(internet_3))\n",
    "internet_3.dropna(subset=['Provincia'], inplace=True)\n",
    "print(\"Número de filas después de limpiar:\", len(internet_3))"
   ]
  },
  {
   "cell_type": "code",
   "execution_count": 10,
   "metadata": {},
   "outputs": [
    {
     "data": {
      "text/html": [
       "<div>\n",
       "<style scoped>\n",
       "    .dataframe tbody tr th:only-of-type {\n",
       "        vertical-align: middle;\n",
       "    }\n",
       "\n",
       "    .dataframe tbody tr th {\n",
       "        vertical-align: top;\n",
       "    }\n",
       "\n",
       "    .dataframe thead th {\n",
       "        text-align: right;\n",
       "    }\n",
       "</style>\n",
       "<table border=\"1\" class=\"dataframe\">\n",
       "  <thead>\n",
       "    <tr style=\"text-align: right;\">\n",
       "      <th></th>\n",
       "      <th>Año</th>\n",
       "      <th>Trimestre</th>\n",
       "      <th>Provincia</th>\n",
       "      <th>Mbps (Media de bajada)</th>\n",
       "    </tr>\n",
       "  </thead>\n",
       "  <tbody>\n",
       "    <tr>\n",
       "      <th>0</th>\n",
       "      <td>2024</td>\n",
       "      <td>1</td>\n",
       "      <td>Buenos Aires</td>\n",
       "      <td>159.13</td>\n",
       "    </tr>\n",
       "    <tr>\n",
       "      <th>1</th>\n",
       "      <td>2024</td>\n",
       "      <td>1</td>\n",
       "      <td>Capital Federal</td>\n",
       "      <td>229.94</td>\n",
       "    </tr>\n",
       "    <tr>\n",
       "      <th>2</th>\n",
       "      <td>2024</td>\n",
       "      <td>1</td>\n",
       "      <td>Catamarca</td>\n",
       "      <td>91.45</td>\n",
       "    </tr>\n",
       "    <tr>\n",
       "      <th>3</th>\n",
       "      <td>2024</td>\n",
       "      <td>1</td>\n",
       "      <td>Chaco</td>\n",
       "      <td>107.51</td>\n",
       "    </tr>\n",
       "    <tr>\n",
       "      <th>4</th>\n",
       "      <td>2024</td>\n",
       "      <td>1</td>\n",
       "      <td>Chubut</td>\n",
       "      <td>20.50</td>\n",
       "    </tr>\n",
       "  </tbody>\n",
       "</table>\n",
       "</div>"
      ],
      "text/plain": [
       "    Año  Trimestre        Provincia  Mbps (Media de bajada)\n",
       "0  2024          1     Buenos Aires                  159.13\n",
       "1  2024          1  Capital Federal                  229.94\n",
       "2  2024          1        Catamarca                   91.45\n",
       "3  2024          1            Chaco                  107.51\n",
       "4  2024          1           Chubut                   20.50"
      ]
     },
     "execution_count": 10,
     "metadata": {},
     "output_type": "execute_result"
    }
   ],
   "source": [
    "#Página 4 \"Velocidad % por prov\"\n",
    "\n",
    "internet_4.head()"
   ]
  },
  {
   "cell_type": "code",
   "execution_count": 11,
   "metadata": {},
   "outputs": [
    {
     "data": {
      "text/plain": [
       "Año                       0\n",
       "Trimestre                 0\n",
       "Provincia                 0\n",
       "Mbps (Media de bajada)    0\n",
       "dtype: int64"
      ]
     },
     "execution_count": 11,
     "metadata": {},
     "output_type": "execute_result"
    }
   ],
   "source": [
    "internet_4.isnull().sum()"
   ]
  },
  {
   "cell_type": "code",
   "execution_count": 12,
   "metadata": {},
   "outputs": [
    {
     "name": "stdout",
     "output_type": "stream",
     "text": [
      "0\n"
     ]
    }
   ],
   "source": [
    "# Verificamos duplicados\n",
    "\n",
    "print(internet_4.duplicated().sum())"
   ]
  },
  {
   "cell_type": "code",
   "execution_count": 13,
   "metadata": {},
   "outputs": [
    {
     "data": {
      "text/plain": [
       "Año                        11\n",
       "Trimestre                   4\n",
       "Provincia                  24\n",
       "Mbps (Media de bajada)    978\n",
       "dtype: int64"
      ]
     },
     "execution_count": 13,
     "metadata": {},
     "output_type": "execute_result"
    }
   ],
   "source": [
    "internet_4.nunique()"
   ]
  },
  {
   "cell_type": "code",
   "execution_count": 14,
   "metadata": {},
   "outputs": [
    {
     "data": {
      "text/html": [
       "<div>\n",
       "<style scoped>\n",
       "    .dataframe tbody tr th:only-of-type {\n",
       "        vertical-align: middle;\n",
       "    }\n",
       "\n",
       "    .dataframe tbody tr th {\n",
       "        vertical-align: top;\n",
       "    }\n",
       "\n",
       "    .dataframe thead th {\n",
       "        text-align: right;\n",
       "    }\n",
       "</style>\n",
       "<table border=\"1\" class=\"dataframe\">\n",
       "  <thead>\n",
       "    <tr style=\"text-align: right;\">\n",
       "      <th></th>\n",
       "      <th>Año</th>\n",
       "      <th>Trimestre</th>\n",
       "      <th>ADSL</th>\n",
       "      <th>Cablemodem</th>\n",
       "      <th>Fibra óptica</th>\n",
       "      <th>Wireless</th>\n",
       "      <th>Otros</th>\n",
       "      <th>Total</th>\n",
       "      <th>Periodo</th>\n",
       "    </tr>\n",
       "  </thead>\n",
       "  <tbody>\n",
       "    <tr>\n",
       "      <th>0</th>\n",
       "      <td>2024</td>\n",
       "      <td>1</td>\n",
       "      <td>774475</td>\n",
       "      <td>5986957</td>\n",
       "      <td>4015101</td>\n",
       "      <td>598682</td>\n",
       "      <td>257941</td>\n",
       "      <td>11633156</td>\n",
       "      <td>Ene-Mar 2024</td>\n",
       "    </tr>\n",
       "    <tr>\n",
       "      <th>1</th>\n",
       "      <td>2023</td>\n",
       "      <td>4</td>\n",
       "      <td>836390</td>\n",
       "      <td>6022532</td>\n",
       "      <td>3908183</td>\n",
       "      <td>585760</td>\n",
       "      <td>194796</td>\n",
       "      <td>11547661</td>\n",
       "      <td>Oct-Dic 2023</td>\n",
       "    </tr>\n",
       "    <tr>\n",
       "      <th>2</th>\n",
       "      <td>2023</td>\n",
       "      <td>3</td>\n",
       "      <td>897895</td>\n",
       "      <td>6018832</td>\n",
       "      <td>3708718</td>\n",
       "      <td>581436</td>\n",
       "      <td>200027</td>\n",
       "      <td>11406908</td>\n",
       "      <td>Jul-Sept 2023</td>\n",
       "    </tr>\n",
       "    <tr>\n",
       "      <th>3</th>\n",
       "      <td>2023</td>\n",
       "      <td>2</td>\n",
       "      <td>1006509</td>\n",
       "      <td>5997149</td>\n",
       "      <td>3463988</td>\n",
       "      <td>581823</td>\n",
       "      <td>202428</td>\n",
       "      <td>11251897</td>\n",
       "      <td>Abr-Jun 2023</td>\n",
       "    </tr>\n",
       "    <tr>\n",
       "      <th>4</th>\n",
       "      <td>2023</td>\n",
       "      <td>1</td>\n",
       "      <td>1204417</td>\n",
       "      <td>6002582</td>\n",
       "      <td>3243411</td>\n",
       "      <td>576647</td>\n",
       "      <td>214838</td>\n",
       "      <td>11241895</td>\n",
       "      <td>Ene-Mar 2023</td>\n",
       "    </tr>\n",
       "  </tbody>\n",
       "</table>\n",
       "</div>"
      ],
      "text/plain": [
       "    Año  Trimestre     ADSL  Cablemodem  Fibra óptica  Wireless   Otros  \\\n",
       "0  2024          1   774475     5986957       4015101    598682  257941   \n",
       "1  2023          4   836390     6022532       3908183    585760  194796   \n",
       "2  2023          3   897895     6018832       3708718    581436  200027   \n",
       "3  2023          2  1006509     5997149       3463988    581823  202428   \n",
       "4  2023          1  1204417     6002582       3243411    576647  214838   \n",
       "\n",
       "      Total        Periodo  \n",
       "0  11633156   Ene-Mar 2024  \n",
       "1  11547661   Oct-Dic 2023  \n",
       "2  11406908  Jul-Sept 2023  \n",
       "3  11251897   Abr-Jun 2023  \n",
       "4  11241895   Ene-Mar 2023  "
      ]
     },
     "execution_count": 14,
     "metadata": {},
     "output_type": "execute_result"
    }
   ],
   "source": [
    "#Página 6 \"Totales Accesos por tecnología\"\n",
    "\n",
    "internet_6.head()"
   ]
  },
  {
   "cell_type": "code",
   "execution_count": 15,
   "metadata": {},
   "outputs": [
    {
     "data": {
      "text/plain": [
       "Año             11\n",
       "Trimestre        4\n",
       "ADSL            41\n",
       "Cablemodem      41\n",
       "Fibra óptica    41\n",
       "Wireless        41\n",
       "Otros           41\n",
       "Total           41\n",
       "Periodo         41\n",
       "dtype: int64"
      ]
     },
     "execution_count": 15,
     "metadata": {},
     "output_type": "execute_result"
    }
   ],
   "source": [
    "internet_6.nunique()"
   ]
  },
  {
   "cell_type": "code",
   "execution_count": 16,
   "metadata": {},
   "outputs": [
    {
     "data": {
      "text/plain": [
       "array([2024, 2023, 2022, 2021, 2020, 2019, 2018, 2017, 2016, 2015, 2014],\n",
       "      dtype=int64)"
      ]
     },
     "execution_count": 16,
     "metadata": {},
     "output_type": "execute_result"
    }
   ],
   "source": [
    "#Verifico los distintos valores contenidos en la columna \"Año\" y su dtype\n",
    "\n",
    "internet_6['Año'].unique()"
   ]
  },
  {
   "cell_type": "code",
   "execution_count": 17,
   "metadata": {},
   "outputs": [
    {
     "data": {
      "text/plain": [
       "array([1, 4, 3, 2], dtype=int64)"
      ]
     },
     "execution_count": 17,
     "metadata": {},
     "output_type": "execute_result"
    }
   ],
   "source": [
    "internet_6['Trimestre'].unique()"
   ]
  },
  {
   "cell_type": "code",
   "execution_count": 18,
   "metadata": {},
   "outputs": [
    {
     "data": {
      "text/html": [
       "<div>\n",
       "<style scoped>\n",
       "    .dataframe tbody tr th:only-of-type {\n",
       "        vertical-align: middle;\n",
       "    }\n",
       "\n",
       "    .dataframe tbody tr th {\n",
       "        vertical-align: top;\n",
       "    }\n",
       "\n",
       "    .dataframe thead th {\n",
       "        text-align: right;\n",
       "    }\n",
       "</style>\n",
       "<table border=\"1\" class=\"dataframe\">\n",
       "  <thead>\n",
       "    <tr style=\"text-align: right;\">\n",
       "      <th></th>\n",
       "      <th>Año</th>\n",
       "      <th>Trimestre</th>\n",
       "      <th>Provincia</th>\n",
       "      <th>Accesos por cada 100 hogares</th>\n",
       "    </tr>\n",
       "  </thead>\n",
       "  <tbody>\n",
       "    <tr>\n",
       "      <th>0</th>\n",
       "      <td>2024</td>\n",
       "      <td>1</td>\n",
       "      <td>Buenos Aires</td>\n",
       "      <td>81.10</td>\n",
       "    </tr>\n",
       "    <tr>\n",
       "      <th>1</th>\n",
       "      <td>2024</td>\n",
       "      <td>1</td>\n",
       "      <td>Capital Federal</td>\n",
       "      <td>119.53</td>\n",
       "    </tr>\n",
       "    <tr>\n",
       "      <th>2</th>\n",
       "      <td>2024</td>\n",
       "      <td>1</td>\n",
       "      <td>Catamarca</td>\n",
       "      <td>68.82</td>\n",
       "    </tr>\n",
       "    <tr>\n",
       "      <th>3</th>\n",
       "      <td>2024</td>\n",
       "      <td>1</td>\n",
       "      <td>Chaco</td>\n",
       "      <td>46.70</td>\n",
       "    </tr>\n",
       "    <tr>\n",
       "      <th>4</th>\n",
       "      <td>2024</td>\n",
       "      <td>1</td>\n",
       "      <td>Chubut</td>\n",
       "      <td>84.89</td>\n",
       "    </tr>\n",
       "  </tbody>\n",
       "</table>\n",
       "</div>"
      ],
      "text/plain": [
       "    Año  Trimestre        Provincia  Accesos por cada 100 hogares\n",
       "0  2024          1     Buenos Aires                         81.10\n",
       "1  2024          1  Capital Federal                        119.53\n",
       "2  2024          1        Catamarca                         68.82\n",
       "3  2024          1            Chaco                         46.70\n",
       "4  2024          1           Chubut                         84.89"
      ]
     },
     "execution_count": 18,
     "metadata": {},
     "output_type": "execute_result"
    }
   ],
   "source": [
    "internet_9.head()"
   ]
  },
  {
   "cell_type": "code",
   "execution_count": 19,
   "metadata": {},
   "outputs": [
    {
     "data": {
      "text/plain": [
       "Año                             0\n",
       "Trimestre                       0\n",
       "Provincia                       0\n",
       "Accesos por cada 100 hogares    0\n",
       "dtype: int64"
      ]
     },
     "execution_count": 19,
     "metadata": {},
     "output_type": "execute_result"
    }
   ],
   "source": [
    "internet_9.isnull().sum()"
   ]
  },
  {
   "cell_type": "code",
   "execution_count": 20,
   "metadata": {},
   "outputs": [
    {
     "name": "stdout",
     "output_type": "stream",
     "text": [
      "0\n"
     ]
    }
   ],
   "source": [
    "# Verificamos duplicados\n",
    "\n",
    "print(internet_9.duplicated().sum())"
   ]
  },
  {
   "cell_type": "code",
   "execution_count": 21,
   "metadata": {},
   "outputs": [
    {
     "data": {
      "text/plain": [
       "Año                              11\n",
       "Trimestre                         4\n",
       "Provincia                        24\n",
       "Accesos por cada 100 hogares    977\n",
       "dtype: int64"
      ]
     },
     "execution_count": 21,
     "metadata": {},
     "output_type": "execute_result"
    }
   ],
   "source": [
    "internet_9.nunique()"
   ]
  },
  {
   "cell_type": "code",
   "execution_count": 22,
   "metadata": {},
   "outputs": [
    {
     "data": {
      "text/plain": [
       "Año                               int64\n",
       "Trimestre                         int64\n",
       "Provincia                        object\n",
       "Accesos por cada 100 hogares    float64\n",
       "dtype: object"
      ]
     },
     "execution_count": 22,
     "metadata": {},
     "output_type": "execute_result"
    }
   ],
   "source": [
    "internet_9.dtypes"
   ]
  },
  {
   "cell_type": "code",
   "execution_count": 23,
   "metadata": {},
   "outputs": [
    {
     "data": {
      "text/plain": [
       "array([2024, 2023, 2022, 2021, 2020, 2019, 2018, 2017, 2016, 2015, 2014],\n",
       "      dtype=int64)"
      ]
     },
     "execution_count": 23,
     "metadata": {},
     "output_type": "execute_result"
    }
   ],
   "source": [
    "internet_9['Año'].unique()"
   ]
  },
  {
   "cell_type": "code",
   "execution_count": 24,
   "metadata": {},
   "outputs": [
    {
     "data": {
      "text/plain": [
       "array([1, 4, 3, 2], dtype=int64)"
      ]
     },
     "execution_count": 24,
     "metadata": {},
     "output_type": "execute_result"
    }
   ],
   "source": [
    "internet_9['Trimestre'].unique()"
   ]
  },
  {
   "cell_type": "code",
   "execution_count": 25,
   "metadata": {},
   "outputs": [
    {
     "data": {
      "text/html": [
       "<div>\n",
       "<style scoped>\n",
       "    .dataframe tbody tr th:only-of-type {\n",
       "        vertical-align: middle;\n",
       "    }\n",
       "\n",
       "    .dataframe tbody tr th {\n",
       "        vertical-align: top;\n",
       "    }\n",
       "\n",
       "    .dataframe thead th {\n",
       "        text-align: right;\n",
       "    }\n",
       "</style>\n",
       "<table border=\"1\" class=\"dataframe\">\n",
       "  <thead>\n",
       "    <tr style=\"text-align: right;\">\n",
       "      <th></th>\n",
       "      <th>Año</th>\n",
       "      <th>Trimestre</th>\n",
       "      <th>Accesos por cada 100 hogares</th>\n",
       "      <th>Accesos por cada 100 hab</th>\n",
       "      <th>Periodo</th>\n",
       "    </tr>\n",
       "  </thead>\n",
       "  <tbody>\n",
       "    <tr>\n",
       "      <th>0</th>\n",
       "      <td>2024</td>\n",
       "      <td>1</td>\n",
       "      <td>78.89</td>\n",
       "      <td>24.79</td>\n",
       "      <td>Ene-Mar 2024</td>\n",
       "    </tr>\n",
       "    <tr>\n",
       "      <th>1</th>\n",
       "      <td>2023</td>\n",
       "      <td>4</td>\n",
       "      <td>78.56</td>\n",
       "      <td>24.66</td>\n",
       "      <td>Oct-Dic 2023</td>\n",
       "    </tr>\n",
       "    <tr>\n",
       "      <th>2</th>\n",
       "      <td>2023</td>\n",
       "      <td>3</td>\n",
       "      <td>77.84</td>\n",
       "      <td>24.41</td>\n",
       "      <td>Jul-Sept 2023</td>\n",
       "    </tr>\n",
       "    <tr>\n",
       "      <th>3</th>\n",
       "      <td>2023</td>\n",
       "      <td>2</td>\n",
       "      <td>77.02</td>\n",
       "      <td>24.14</td>\n",
       "      <td>Abr-Jun 2023</td>\n",
       "    </tr>\n",
       "    <tr>\n",
       "      <th>4</th>\n",
       "      <td>2023</td>\n",
       "      <td>1</td>\n",
       "      <td>77.20</td>\n",
       "      <td>24.17</td>\n",
       "      <td>Ene-Mar 2023</td>\n",
       "    </tr>\n",
       "  </tbody>\n",
       "</table>\n",
       "</div>"
      ],
      "text/plain": [
       "    Año  Trimestre  Accesos por cada 100 hogares  Accesos por cada 100 hab  \\\n",
       "0  2024          1                         78.89                     24.79   \n",
       "1  2023          4                         78.56                     24.66   \n",
       "2  2023          3                         77.84                     24.41   \n",
       "3  2023          2                         77.02                     24.14   \n",
       "4  2023          1                         77.20                     24.17   \n",
       "\n",
       "         Periodo  \n",
       "0   Ene-Mar 2024  \n",
       "1   Oct-Dic 2023  \n",
       "2  Jul-Sept 2023  \n",
       "3   Abr-Jun 2023  \n",
       "4   Ene-Mar 2023  "
      ]
     },
     "execution_count": 25,
     "metadata": {},
     "output_type": "execute_result"
    }
   ],
   "source": [
    "internet_10.head()"
   ]
  },
  {
   "cell_type": "code",
   "execution_count": 26,
   "metadata": {},
   "outputs": [
    {
     "name": "stdout",
     "output_type": "stream",
     "text": [
      "0\n"
     ]
    }
   ],
   "source": [
    "# Verificamos duplicados\n",
    "\n",
    "print(internet_10.duplicated().sum())"
   ]
  },
  {
   "cell_type": "code",
   "execution_count": 27,
   "metadata": {},
   "outputs": [
    {
     "data": {
      "text/plain": [
       "Año                               int64\n",
       "Trimestre                         int64\n",
       "Accesos por cada 100 hogares    float64\n",
       "Accesos por cada 100 hab        float64\n",
       "Periodo                          object\n",
       "dtype: object"
      ]
     },
     "execution_count": 27,
     "metadata": {},
     "output_type": "execute_result"
    }
   ],
   "source": [
    "#Verificamos tipos de datos\n",
    "\n",
    "internet_10.dtypes"
   ]
  },
  {
   "cell_type": "code",
   "execution_count": 28,
   "metadata": {},
   "outputs": [
    {
     "data": {
      "text/plain": [
       "Año                             11\n",
       "Trimestre                        4\n",
       "Accesos por cada 100 hogares    41\n",
       "Accesos por cada 100 hab        41\n",
       "Periodo                         41\n",
       "dtype: int64"
      ]
     },
     "execution_count": 28,
     "metadata": {},
     "output_type": "execute_result"
    }
   ],
   "source": [
    "#Verificamos registros por columna\n",
    "\n",
    "internet_10.nunique()"
   ]
  },
  {
   "cell_type": "code",
   "execution_count": 29,
   "metadata": {},
   "outputs": [
    {
     "data": {
      "text/plain": [
       "array([2024, 2023, 2022, 2021, 2020, 2019, 2018, 2017, 2016, 2015, 2014],\n",
       "      dtype=int64)"
      ]
     },
     "execution_count": 29,
     "metadata": {},
     "output_type": "execute_result"
    }
   ],
   "source": [
    "#Verifico los distintos valores contenidos en la columna \"Año\" y su dtype\n",
    "\n",
    "internet_10['Año'].unique()"
   ]
  },
  {
   "cell_type": "code",
   "execution_count": 30,
   "metadata": {},
   "outputs": [
    {
     "data": {
      "text/plain": [
       "array([1, 4, 3, 2], dtype=int64)"
      ]
     },
     "execution_count": 30,
     "metadata": {},
     "output_type": "execute_result"
    }
   ],
   "source": [
    "#Verifico los distintos valores contenidos en la columna \"Trimestre\" y su dtype\n",
    "\n",
    "internet_10['Trimestre'].unique()"
   ]
  },
  {
   "cell_type": "code",
   "execution_count": 31,
   "metadata": {},
   "outputs": [
    {
     "data": {
      "text/html": [
       "<div>\n",
       "<style scoped>\n",
       "    .dataframe tbody tr th:only-of-type {\n",
       "        vertical-align: middle;\n",
       "    }\n",
       "\n",
       "    .dataframe tbody tr th {\n",
       "        vertical-align: top;\n",
       "    }\n",
       "\n",
       "    .dataframe thead th {\n",
       "        text-align: right;\n",
       "    }\n",
       "</style>\n",
       "<table border=\"1\" class=\"dataframe\">\n",
       "  <thead>\n",
       "    <tr style=\"text-align: right;\">\n",
       "      <th></th>\n",
       "      <th>Año</th>\n",
       "      <th>Trimestre</th>\n",
       "      <th>Provincia</th>\n",
       "      <th>HASTA 512 kbps</th>\n",
       "      <th>+ 512 Kbps - 1 Mbps</th>\n",
       "      <th>+ 1 Mbps - 6 Mbps</th>\n",
       "      <th>+ 6 Mbps - 10 Mbps</th>\n",
       "      <th>+ 10 Mbps - 20 Mbps</th>\n",
       "      <th>+ 20 Mbps - 30 Mbps</th>\n",
       "      <th>+ 30 Mbps</th>\n",
       "      <th>OTROS</th>\n",
       "      <th>Total</th>\n",
       "    </tr>\n",
       "  </thead>\n",
       "  <tbody>\n",
       "    <tr>\n",
       "      <th>0</th>\n",
       "      <td>2024</td>\n",
       "      <td>1</td>\n",
       "      <td>Buenos Aires</td>\n",
       "      <td>26002.0</td>\n",
       "      <td>22510.0</td>\n",
       "      <td>221185.0</td>\n",
       "      <td>233225.0</td>\n",
       "      <td>241778.0</td>\n",
       "      <td>106418.0</td>\n",
       "      <td>4068292.0</td>\n",
       "      <td>125147.0</td>\n",
       "      <td>5044557.0</td>\n",
       "    </tr>\n",
       "    <tr>\n",
       "      <th>1</th>\n",
       "      <td>2024</td>\n",
       "      <td>1</td>\n",
       "      <td>Capital Federal</td>\n",
       "      <td>516.0</td>\n",
       "      <td>5418.0</td>\n",
       "      <td>29753.0</td>\n",
       "      <td>51415.0</td>\n",
       "      <td>37369.0</td>\n",
       "      <td>5957.0</td>\n",
       "      <td>1374283.0</td>\n",
       "      <td>0.0</td>\n",
       "      <td>1504711.0</td>\n",
       "    </tr>\n",
       "    <tr>\n",
       "      <th>2</th>\n",
       "      <td>2024</td>\n",
       "      <td>1</td>\n",
       "      <td>Catamarca</td>\n",
       "      <td>71.0</td>\n",
       "      <td>176.0</td>\n",
       "      <td>2872.0</td>\n",
       "      <td>3424.0</td>\n",
       "      <td>4204.0</td>\n",
       "      <td>1822.0</td>\n",
       "      <td>62294.0</td>\n",
       "      <td>70.0</td>\n",
       "      <td>74933.0</td>\n",
       "    </tr>\n",
       "    <tr>\n",
       "      <th>3</th>\n",
       "      <td>2024</td>\n",
       "      <td>1</td>\n",
       "      <td>Chaco</td>\n",
       "      <td>236.0</td>\n",
       "      <td>416.0</td>\n",
       "      <td>14156.0</td>\n",
       "      <td>9044.0</td>\n",
       "      <td>5533.0</td>\n",
       "      <td>5718.0</td>\n",
       "      <td>116624.0</td>\n",
       "      <td>3816.0</td>\n",
       "      <td>155543.0</td>\n",
       "    </tr>\n",
       "    <tr>\n",
       "      <th>4</th>\n",
       "      <td>2024</td>\n",
       "      <td>1</td>\n",
       "      <td>Chubut</td>\n",
       "      <td>111.0</td>\n",
       "      <td>1083.0</td>\n",
       "      <td>43828.0</td>\n",
       "      <td>31885.0</td>\n",
       "      <td>23024.0</td>\n",
       "      <td>20261.0</td>\n",
       "      <td>33844.0</td>\n",
       "      <td>16640.0</td>\n",
       "      <td>170676.0</td>\n",
       "    </tr>\n",
       "  </tbody>\n",
       "</table>\n",
       "</div>"
      ],
      "text/plain": [
       "    Año  Trimestre        Provincia  HASTA 512 kbps  + 512 Kbps - 1 Mbps  \\\n",
       "0  2024          1     Buenos Aires         26002.0              22510.0   \n",
       "1  2024          1  Capital Federal           516.0               5418.0   \n",
       "2  2024          1        Catamarca            71.0                176.0   \n",
       "3  2024          1            Chaco           236.0                416.0   \n",
       "4  2024          1           Chubut           111.0               1083.0   \n",
       "\n",
       "   + 1 Mbps - 6 Mbps  + 6 Mbps - 10 Mbps  + 10 Mbps - 20 Mbps  \\\n",
       "0           221185.0            233225.0             241778.0   \n",
       "1            29753.0             51415.0              37369.0   \n",
       "2             2872.0              3424.0               4204.0   \n",
       "3            14156.0              9044.0               5533.0   \n",
       "4            43828.0             31885.0              23024.0   \n",
       "\n",
       "   + 20 Mbps - 30 Mbps  + 30 Mbps     OTROS      Total  \n",
       "0             106418.0  4068292.0  125147.0  5044557.0  \n",
       "1               5957.0  1374283.0       0.0  1504711.0  \n",
       "2               1822.0    62294.0      70.0    74933.0  \n",
       "3               5718.0   116624.0    3816.0   155543.0  \n",
       "4              20261.0    33844.0   16640.0   170676.0  "
      ]
     },
     "execution_count": 31,
     "metadata": {},
     "output_type": "execute_result"
    }
   ],
   "source": [
    "#Página 12 \"Accesos por velocidad\"\n",
    "\n",
    "internet_12.head()"
   ]
  },
  {
   "cell_type": "code",
   "execution_count": 32,
   "metadata": {},
   "outputs": [
    {
     "data": {
      "text/plain": [
       "Año                    0\n",
       "Trimestre              0\n",
       "Provincia              0\n",
       "HASTA 512 kbps         0\n",
       "+ 512 Kbps - 1 Mbps    0\n",
       "+ 1 Mbps - 6 Mbps      0\n",
       "+ 6 Mbps - 10 Mbps     0\n",
       "+ 10 Mbps - 20 Mbps    0\n",
       "+ 20 Mbps - 30 Mbps    0\n",
       "+ 30 Mbps              0\n",
       "OTROS                  6\n",
       "Total                  0\n",
       "dtype: int64"
      ]
     },
     "execution_count": 32,
     "metadata": {},
     "output_type": "execute_result"
    }
   ],
   "source": [
    "internet_12.isnull().sum()"
   ]
  },
  {
   "cell_type": "code",
   "execution_count": 33,
   "metadata": {},
   "outputs": [
    {
     "data": {
      "text/plain": [
       "Año                     11\n",
       "Trimestre                4\n",
       "Provincia               24\n",
       "HASTA 512 kbps         383\n",
       "+ 512 Kbps - 1 Mbps    752\n",
       "+ 1 Mbps - 6 Mbps      974\n",
       "+ 6 Mbps - 10 Mbps     897\n",
       "+ 10 Mbps - 20 Mbps    870\n",
       "+ 20 Mbps - 30 Mbps    718\n",
       "+ 30 Mbps              693\n",
       "OTROS                  436\n",
       "Total                  978\n",
       "dtype: int64"
      ]
     },
     "execution_count": 33,
     "metadata": {},
     "output_type": "execute_result"
    }
   ],
   "source": [
    "internet_12.nunique()"
   ]
  },
  {
   "cell_type": "code",
   "execution_count": 34,
   "metadata": {},
   "outputs": [
    {
     "name": "stdout",
     "output_type": "stream",
     "text": [
      "['Año', 'Trimestre', 'Provincia', 'HASTA 512 kbps', '+ 512 Kbps - 1 Mbps', '+ 1 Mbps - 6 Mbps', '+ 6 Mbps - 10 Mbps', '+ 10 Mbps - 20 Mbps', '+ 20 Mbps - 30 Mbps', '+ 30 Mbps', 'OTROS', 'Total']\n"
     ]
    }
   ],
   "source": [
    "print(internet_12.columns.tolist())"
   ]
  },
  {
   "cell_type": "code",
   "execution_count": 35,
   "metadata": {},
   "outputs": [
    {
     "data": {
      "text/plain": [
       "array([1, 4, 3, 2], dtype=int64)"
      ]
     },
     "execution_count": 35,
     "metadata": {},
     "output_type": "execute_result"
    }
   ],
   "source": [
    "#Verifico los distintos valores contenidos en la columna \"Trimestre\" y su dtype\n",
    "\n",
    "internet_12['Trimestre'].unique()"
   ]
  },
  {
   "cell_type": "code",
   "execution_count": 36,
   "metadata": {},
   "outputs": [
    {
     "data": {
      "text/plain": [
       "array([2024, 2023, 2022, 2021, 2020, 2019, 2018, 2017, 2016, 2015, 2014],\n",
       "      dtype=int64)"
      ]
     },
     "execution_count": 36,
     "metadata": {},
     "output_type": "execute_result"
    }
   ],
   "source": [
    "#Verifico los distintos valores contenidos en la columna \"Año\" y su dtype\n",
    "\n",
    "internet_12['Año'].unique()"
   ]
  },
  {
   "cell_type": "code",
   "execution_count": 37,
   "metadata": {},
   "outputs": [
    {
     "name": "stdout",
     "output_type": "stream",
     "text": [
      "0\n"
     ]
    }
   ],
   "source": [
    "# Verificamos duplicados\n",
    "\n",
    "print(internet_12.duplicated().sum())"
   ]
  },
  {
   "cell_type": "code",
   "execution_count": 38,
   "metadata": {},
   "outputs": [],
   "source": [
    "#Se eliminan columnas innecesarias\n",
    "\n",
    "internet_12 = internet_12.drop('Total', axis=1)"
   ]
  },
  {
   "cell_type": "markdown",
   "metadata": {},
   "source": [
    "Inspecciono el dataset complementario \"mapa_conectividad\""
   ]
  },
  {
   "cell_type": "code",
   "execution_count": 39,
   "metadata": {},
   "outputs": [
    {
     "data": {
      "text/html": [
       "<div>\n",
       "<style scoped>\n",
       "    .dataframe tbody tr th:only-of-type {\n",
       "        vertical-align: middle;\n",
       "    }\n",
       "\n",
       "    .dataframe tbody tr th {\n",
       "        vertical-align: top;\n",
       "    }\n",
       "\n",
       "    .dataframe thead th {\n",
       "        text-align: right;\n",
       "    }\n",
       "</style>\n",
       "<table border=\"1\" class=\"dataframe\">\n",
       "  <thead>\n",
       "    <tr style=\"text-align: right;\">\n",
       "      <th></th>\n",
       "      <th>Provincia</th>\n",
       "      <th>Partido</th>\n",
       "      <th>Localidad</th>\n",
       "      <th>Población</th>\n",
       "      <th>ADSL</th>\n",
       "      <th>Cablemódem</th>\n",
       "      <th>Dial Up</th>\n",
       "      <th>Fibra óptica</th>\n",
       "      <th>Satelital</th>\n",
       "      <th>Wireless</th>\n",
       "      <th>Telefonía Fija</th>\n",
       "      <th>3G</th>\n",
       "      <th>4G</th>\n",
       "      <th>Link</th>\n",
       "      <th>Latitud</th>\n",
       "      <th>Longitud</th>\n",
       "    </tr>\n",
       "  </thead>\n",
       "  <tbody>\n",
       "    <tr>\n",
       "      <th>0</th>\n",
       "      <td>BUENOS AIRES</td>\n",
       "      <td>25 de Mayo</td>\n",
       "      <td>25 de Mayo</td>\n",
       "      <td>23408</td>\n",
       "      <td>SI</td>\n",
       "      <td>SI</td>\n",
       "      <td>--</td>\n",
       "      <td>--</td>\n",
       "      <td>SI</td>\n",
       "      <td>SI</td>\n",
       "      <td>SI</td>\n",
       "      <td>SI</td>\n",
       "      <td>SI</td>\n",
       "      <td>6854100.0</td>\n",
       "      <td>-35.433939</td>\n",
       "      <td>-60.173121</td>\n",
       "    </tr>\n",
       "    <tr>\n",
       "      <th>1</th>\n",
       "      <td>BUENOS AIRES</td>\n",
       "      <td>25 de Mayo</td>\n",
       "      <td>Agustín Mosconi</td>\n",
       "      <td>280</td>\n",
       "      <td>--</td>\n",
       "      <td>--</td>\n",
       "      <td>--</td>\n",
       "      <td>--</td>\n",
       "      <td>--</td>\n",
       "      <td>--</td>\n",
       "      <td>SI</td>\n",
       "      <td>--</td>\n",
       "      <td>--</td>\n",
       "      <td>6854010.0</td>\n",
       "      <td>-35.739217</td>\n",
       "      <td>-60.559063</td>\n",
       "    </tr>\n",
       "    <tr>\n",
       "      <th>2</th>\n",
       "      <td>BUENOS AIRES</td>\n",
       "      <td>25 de Mayo</td>\n",
       "      <td>Del Valle</td>\n",
       "      <td>899</td>\n",
       "      <td>SI</td>\n",
       "      <td>--</td>\n",
       "      <td>--</td>\n",
       "      <td>--</td>\n",
       "      <td>SI</td>\n",
       "      <td>--</td>\n",
       "      <td>--</td>\n",
       "      <td>SI</td>\n",
       "      <td>--</td>\n",
       "      <td>6854020.0</td>\n",
       "      <td>-35.897345</td>\n",
       "      <td>-60.731609</td>\n",
       "    </tr>\n",
       "    <tr>\n",
       "      <th>3</th>\n",
       "      <td>BUENOS AIRES</td>\n",
       "      <td>25 de Mayo</td>\n",
       "      <td>Ernestina</td>\n",
       "      <td>145</td>\n",
       "      <td>SI</td>\n",
       "      <td>--</td>\n",
       "      <td>--</td>\n",
       "      <td>--</td>\n",
       "      <td>--</td>\n",
       "      <td>--</td>\n",
       "      <td>SI</td>\n",
       "      <td>--</td>\n",
       "      <td>--</td>\n",
       "      <td>6854030.0</td>\n",
       "      <td>-35.270234</td>\n",
       "      <td>-59.557503</td>\n",
       "    </tr>\n",
       "    <tr>\n",
       "      <th>4</th>\n",
       "      <td>BUENOS AIRES</td>\n",
       "      <td>25 de Mayo</td>\n",
       "      <td>Gobernador Ugarte</td>\n",
       "      <td>547</td>\n",
       "      <td>--</td>\n",
       "      <td>--</td>\n",
       "      <td>--</td>\n",
       "      <td>--</td>\n",
       "      <td>--</td>\n",
       "      <td>SI</td>\n",
       "      <td>--</td>\n",
       "      <td>--</td>\n",
       "      <td>--</td>\n",
       "      <td>6854040.0</td>\n",
       "      <td>-35.164397</td>\n",
       "      <td>-60.081358</td>\n",
       "    </tr>\n",
       "  </tbody>\n",
       "</table>\n",
       "</div>"
      ],
      "text/plain": [
       "      Provincia     Partido          Localidad  Población ADSL Cablemódem  \\\n",
       "0  BUENOS AIRES  25 de Mayo         25 de Mayo      23408   SI         SI   \n",
       "1  BUENOS AIRES  25 de Mayo    Agustín Mosconi        280   --         --   \n",
       "2  BUENOS AIRES  25 de Mayo          Del Valle        899   SI         --   \n",
       "3  BUENOS AIRES  25 de Mayo          Ernestina        145   SI         --   \n",
       "4  BUENOS AIRES  25 de Mayo  Gobernador Ugarte        547   --         --   \n",
       "\n",
       "  Dial Up Fibra óptica Satelital Wireless Telefonía Fija  3G  4G       Link  \\\n",
       "0      --           --        SI       SI             SI  SI  SI  6854100.0   \n",
       "1      --           --        --       --             SI  --  --  6854010.0   \n",
       "2      --           --        SI       --             --  SI  --  6854020.0   \n",
       "3      --           --        --       --             SI  --  --  6854030.0   \n",
       "4      --           --        --       SI             --  --  --  6854040.0   \n",
       "\n",
       "     Latitud   Longitud  \n",
       "0 -35.433939 -60.173121  \n",
       "1 -35.739217 -60.559063  \n",
       "2 -35.897345 -60.731609  \n",
       "3 -35.270234 -59.557503  \n",
       "4 -35.164397 -60.081358  "
      ]
     },
     "execution_count": 39,
     "metadata": {},
     "output_type": "execute_result"
    }
   ],
   "source": [
    "mapa_conectividad.head()"
   ]
  },
  {
   "cell_type": "code",
   "execution_count": 40,
   "metadata": {},
   "outputs": [
    {
     "data": {
      "text/plain": [
       "Index(['Provincia', 'Partido', 'Localidad', 'Población', 'ADSL', 'Cablemódem',\n",
       "       'Dial Up', 'Fibra óptica', 'Satelital', 'Wireless', 'Telefonía Fija',\n",
       "       '3G', '4G', 'Link', 'Latitud', 'Longitud'],\n",
       "      dtype='object')"
      ]
     },
     "execution_count": 40,
     "metadata": {},
     "output_type": "execute_result"
    }
   ],
   "source": [
    "mapa_conectividad.columns"
   ]
  },
  {
   "cell_type": "code",
   "execution_count": 41,
   "metadata": {},
   "outputs": [
    {
     "data": {
      "text/plain": [
       "Provincia           24\n",
       "Partido            445\n",
       "Localidad         3911\n",
       "Población         2395\n",
       "ADSL                 2\n",
       "Cablemódem           2\n",
       "Dial Up              2\n",
       "Fibra óptica         2\n",
       "Satelital            2\n",
       "Wireless             2\n",
       "Telefonía Fija       2\n",
       "3G                   2\n",
       "4G                   2\n",
       "Link              3525\n",
       "Latitud           4259\n",
       "Longitud          4258\n",
       "dtype: int64"
      ]
     },
     "execution_count": 41,
     "metadata": {},
     "output_type": "execute_result"
    }
   ],
   "source": [
    "mapa_conectividad.nunique()"
   ]
  },
  {
   "cell_type": "code",
   "execution_count": 42,
   "metadata": {},
   "outputs": [],
   "source": [
    "# Convertimos \"-\" a NaN\n",
    "\n",
    "mapa_conectividad = mapa_conectividad.replace(\"-\", np.nan)"
   ]
  },
  {
   "cell_type": "code",
   "execution_count": 43,
   "metadata": {},
   "outputs": [],
   "source": [
    "# Convertimos columnas de disponibilidad a booleano\n",
    "\n",
    "bool_cols = ['ADSL', 'Cablemódem', 'Dial Up', 'Fibra óptica', 'Satelital', 'Wireless', 'Telefonía Fija', '3G', '4G']\n",
    "mapa_conectividad[bool_cols] = mapa_conectividad[bool_cols].fillna(False).astype(bool)"
   ]
  },
  {
   "cell_type": "code",
   "execution_count": 44,
   "metadata": {},
   "outputs": [],
   "source": [
    "# Buscmos y eliminamos duplicados\n",
    "\n",
    "mapa_conectividad.drop_duplicates(inplace=True)"
   ]
  },
  {
   "cell_type": "code",
   "execution_count": 45,
   "metadata": {},
   "outputs": [
    {
     "data": {
      "text/html": [
       "<div>\n",
       "<style scoped>\n",
       "    .dataframe tbody tr th:only-of-type {\n",
       "        vertical-align: middle;\n",
       "    }\n",
       "\n",
       "    .dataframe tbody tr th {\n",
       "        vertical-align: top;\n",
       "    }\n",
       "\n",
       "    .dataframe thead th {\n",
       "        text-align: right;\n",
       "    }\n",
       "</style>\n",
       "<table border=\"1\" class=\"dataframe\">\n",
       "  <thead>\n",
       "    <tr style=\"text-align: right;\">\n",
       "      <th></th>\n",
       "      <th>Población</th>\n",
       "      <th>Link</th>\n",
       "      <th>Latitud</th>\n",
       "      <th>Longitud</th>\n",
       "    </tr>\n",
       "  </thead>\n",
       "  <tbody>\n",
       "    <tr>\n",
       "      <th>count</th>\n",
       "      <td>4.305000e+03</td>\n",
       "      <td>4.293000e+03</td>\n",
       "      <td>4305.000000</td>\n",
       "      <td>4305.000000</td>\n",
       "    </tr>\n",
       "    <tr>\n",
       "      <th>mean</th>\n",
       "      <td>8.707207e+03</td>\n",
       "      <td>3.908916e+07</td>\n",
       "      <td>-32.263116</td>\n",
       "      <td>-63.039292</td>\n",
       "    </tr>\n",
       "    <tr>\n",
       "      <th>std</th>\n",
       "      <td>3.824490e+04</td>\n",
       "      <td>2.939911e+07</td>\n",
       "      <td>5.001839</td>\n",
       "      <td>3.829679</td>\n",
       "    </tr>\n",
       "    <tr>\n",
       "      <th>min</th>\n",
       "      <td>0.000000e+00</td>\n",
       "      <td>2.000010e+06</td>\n",
       "      <td>-77.874009</td>\n",
       "      <td>-72.891627</td>\n",
       "    </tr>\n",
       "    <tr>\n",
       "      <th>25%</th>\n",
       "      <td>1.170000e+02</td>\n",
       "      <td>1.009104e+07</td>\n",
       "      <td>-34.708542</td>\n",
       "      <td>-65.686443</td>\n",
       "    </tr>\n",
       "    <tr>\n",
       "      <th>50%</th>\n",
       "      <td>5.790000e+02</td>\n",
       "      <td>3.400705e+07</td>\n",
       "      <td>-32.286202</td>\n",
       "      <td>-63.450636</td>\n",
       "    </tr>\n",
       "    <tr>\n",
       "      <th>75%</th>\n",
       "      <td>3.217000e+03</td>\n",
       "      <td>6.612603e+07</td>\n",
       "      <td>-28.583403</td>\n",
       "      <td>-60.009923</td>\n",
       "    </tr>\n",
       "    <tr>\n",
       "      <th>max</th>\n",
       "      <td>1.317298e+06</td>\n",
       "      <td>9.401402e+07</td>\n",
       "      <td>-21.817293</td>\n",
       "      <td>-34.626560</td>\n",
       "    </tr>\n",
       "  </tbody>\n",
       "</table>\n",
       "</div>"
      ],
      "text/plain": [
       "          Población          Link      Latitud     Longitud\n",
       "count  4.305000e+03  4.293000e+03  4305.000000  4305.000000\n",
       "mean   8.707207e+03  3.908916e+07   -32.263116   -63.039292\n",
       "std    3.824490e+04  2.939911e+07     5.001839     3.829679\n",
       "min    0.000000e+00  2.000010e+06   -77.874009   -72.891627\n",
       "25%    1.170000e+02  1.009104e+07   -34.708542   -65.686443\n",
       "50%    5.790000e+02  3.400705e+07   -32.286202   -63.450636\n",
       "75%    3.217000e+03  6.612603e+07   -28.583403   -60.009923\n",
       "max    1.317298e+06  9.401402e+07   -21.817293   -34.626560"
      ]
     },
     "execution_count": 45,
     "metadata": {},
     "output_type": "execute_result"
    }
   ],
   "source": [
    "mapa_conectividad.describe()"
   ]
  },
  {
   "cell_type": "code",
   "execution_count": 46,
   "metadata": {},
   "outputs": [],
   "source": [
    "#Se eliminan columnas innecesarias\n",
    "\n",
    "mapa_conectividad = mapa_conectividad.drop('Link', axis=1)"
   ]
  },
  {
   "cell_type": "markdown",
   "metadata": {},
   "source": [
    "Se exportan los df para su ingesta"
   ]
  },
  {
   "cell_type": "code",
   "execution_count": 58,
   "metadata": {},
   "outputs": [],
   "source": [
    "\n",
    "internet_3.to_csv(\"C:/Users/jugas/Proyecto_PIDA/dashboard-conectividad-ENACOM/data/Accesos_tecnologia_localidad.csv\", index=False)\n",
    "internet_4.to_csv(\"C:/Users/jugas/Proyecto_PIDA/dashboard-conectividad-ENACOM/data/Velocidad % por prov.csv\", index=False)\n",
    "internet_6.to_csv(\"C:/Users/jugas/Proyecto_PIDA/dashboard-conectividad-ENACOM/data/Totales Accesos Por Tecnología.csv\", index=False)\n",
    "internet_9.to_csv(\"C:/Users/jugas/Proyecto_PIDA/dashboard-conectividad-ENACOM/data/Penetracion-hogares.csv\", index=False)\n",
    "internet_10.to_csv(\"C:/Users/jugas/Proyecto_PIDA/dashboard-conectividad-ENACOM/data/Penetracion_totales.csv\", index=False)\n",
    "internet_12.to_csv(\"C:/Users/jugas/Proyecto_PIDA/dashboard-conectividad-ENACOM/data/Accesos por velocidad.csv\", index=False)\n",
    "mapa_conectividad.to_csv(\"C:/Users/jugas/Proyecto_PIDA/dashboard-conectividad-ENACOM/data/mapa_conectividad.csv\", index=False)"
   ]
  }
 ],
 "metadata": {
  "kernelspec": {
   "display_name": "Python 3",
   "language": "python",
   "name": "python3"
  },
  "language_info": {
   "codemirror_mode": {
    "name": "ipython",
    "version": 3
   },
   "file_extension": ".py",
   "mimetype": "text/x-python",
   "name": "python",
   "nbconvert_exporter": "python",
   "pygments_lexer": "ipython3",
   "version": "3.12.2"
  }
 },
 "nbformat": 4,
 "nbformat_minor": 2
}
